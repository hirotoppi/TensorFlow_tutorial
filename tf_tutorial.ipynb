{
  "nbformat": 4,
  "nbformat_minor": 0,
  "metadata": {
    "colab": {
      "name": "tf_turtorial.ipynb",
      "provenance": []
    },
    "kernelspec": {
      "name": "python3",
      "display_name": "Python 3"
    },
    "language_info": {
      "name": "python"
    },
    "accelerator": "GPU"
  },
  "cells": [
    {
      "cell_type": "markdown",
      "metadata": {
        "id": "eRJR5dtNAfcV"
      },
      "source": [
        "# [初心者のためのTensorFlow2.0入門](https://www.tensorflow.org/tutorials/quickstart/beginner?hl=ja)を実践\n",
        "\n",
        "参考文献\\\n",
        "[初心者のためのTensorFlow2.0入門](https://www.tensorflow.org/tutorials/keras/classification?hl=ja)\\\n",
        "[TensorFlowのチュートリアルがディープラーニングの勉強のスタートに良かったのでオススメしたい](https://qiita.com/Kuma_T/items/4449f008cad18fbb7f1a)\\\n",
        "[Keras Documentation](https://keras.io/ja/)\\\n",
        "ゼロから作るDeeo Learning"
      ]
    },
    {
      "cell_type": "markdown",
      "metadata": {
        "id": "DbW6s57FEjBp"
      },
      "source": [
        "## tensorflowをインポートする"
      ]
    },
    {
      "cell_type": "code",
      "metadata": {
        "id": "Wup2y9NrALk7"
      },
      "source": [
        "import tensorflow as tf"
      ],
      "execution_count": 1,
      "outputs": []
    },
    {
      "cell_type": "markdown",
      "metadata": {
        "id": "3vHMPN_2Ech4"
      },
      "source": [
        "## MNISTデータセットを読み込む\n",
        "\n",
        "\n",
        "*   tf.keras.dataset.mnist : kerasが用意してくれているmnistデー\n",
        "タセットを変数mnistに代入\n",
        "\n",
        "*   load_data()は、（x_train：訓練画像，y_train：訓練ラベル），（x_test：テスト画像，y_test：テストラベル）という形式で、読み込んだMNISTデータセットの値を返す\n",
        "\n",
        "*   サンプルは整数だけど、それを255で割って浮動小数点化に変換する→→データの値の範囲が0から1になるように正規化\n",
        "\n",
        "\n"
      ]
    },
    {
      "cell_type": "code",
      "metadata": {
        "colab": {
          "base_uri": "https://localhost:8080/"
        },
        "id": "PSExYmfUAdnf",
        "outputId": "42de6d9c-3475-4aac-e840-700039ace628"
      },
      "source": [
        "mnist = tf.keras.datasets.mnist\n",
        "\n",
        "(x_train, y_train), (x_test, y_test) = mnist.load_data()\n",
        "x_train = x_train / 255.0\n",
        "x_test = x_test / 255.0"
      ],
      "execution_count": 2,
      "outputs": [
        {
          "output_type": "stream",
          "name": "stdout",
          "text": [
            "Downloading data from https://storage.googleapis.com/tensorflow/tf-keras-datasets/mnist.npz\n",
            "11493376/11490434 [==============================] - 0s 0us/step\n",
            "11501568/11490434 [==============================] - 0s 0us/step\n"
          ]
        }
      ]
    },
    {
      "cell_type": "markdown",
      "metadata": {
        "id": "xO-XFHK4Ad72"
      },
      "source": [
        ""
      ]
    },
    {
      "cell_type": "markdown",
      "metadata": {
        "id": "pzVCdiC4IdHo"
      },
      "source": [
        "## Seqentialモデルを構築\n",
        "\n",
        "\n",
        "*   Sequentialモデル……シンプルな一直線のモデル（１入力１出力）\n",
        "* tf.keras.layers.Flatten(input_shape = (28,28))……入力層28×28の入力データを784の1次元データ(28✕28=784)に平滑化\n",
        "*   tf.keras.layers.Dense(128, activation='relu')……中間層。活性化関数にRelu関数を使う。ニューロンの個数は128個\n",
        "*   tf.keras.layers.Dropout(0.2)……過学習防止のため、ドロップアウト率=0.2でドロップアウト\n",
        "*   tf.keras.layers.Dense(10)……出力層。ニューロン数は10個で線形関数により出力の値が計算される。\n",
        "\n",
        "\n",
        "\n",
        "\n",
        "\n"
      ]
    },
    {
      "cell_type": "code",
      "metadata": {
        "id": "ALI10Iq_DGR4"
      },
      "source": [
        "model = tf.keras.models.Sequential([\n",
        "  tf.keras.layers.Flatten(input_shape = (28,28)),\n",
        "  tf.keras.layers.Dense(128, activation='relu'),\n",
        "  tf.keras.layers.Dropout(0.2),\n",
        "  tf.keras.layers.Dense(10)\n",
        "])"
      ],
      "execution_count": 3,
      "outputs": []
    },
    {
      "cell_type": "markdown",
      "metadata": {
        "id": "G-d5w0O0P3oi"
      },
      "source": [
        "## 入力画像１枚に対するロジットや対数オッズ比と呼ばれるスコアを算出"
      ]
    },
    {
      "cell_type": "code",
      "metadata": {
        "colab": {
          "base_uri": "https://localhost:8080/"
        },
        "id": "soQGCqI8IMpP",
        "outputId": "fb2f0944-97f8-4a13-edaf-1938689deb7f"
      },
      "source": [
        "predictions = model(x_train[:1]).numpy()\n",
        "predictions"
      ],
      "execution_count": 4,
      "outputs": [
        {
          "output_type": "execute_result",
          "data": {
            "text/plain": [
              "array([[-0.23820132,  0.47049275, -0.9763349 ,  0.9952246 ,  0.13406426,\n",
              "        -0.5500001 , -0.34624022,  0.34882078,  0.6692051 , -0.37388715]],\n",
              "      dtype=float32)"
            ]
          },
          "metadata": {},
          "execution_count": 4
        }
      ]
    },
    {
      "cell_type": "markdown",
      "metadata": {
        "id": "zNcK0-DYSUO6"
      },
      "source": [
        "## 上の出力値をクラスごとに確率に変換"
      ]
    },
    {
      "cell_type": "code",
      "metadata": {
        "colab": {
          "base_uri": "https://localhost:8080/"
        },
        "id": "4204P8EcSHA0",
        "outputId": "9600497e-269f-4e6c-f654-560da01b4f69"
      },
      "source": [
        "tf.nn.softmax(predictions).numpy()"
      ],
      "execution_count": 5,
      "outputs": [
        {
          "output_type": "execute_result",
          "data": {
            "text/plain": [
              "array([[0.06590793, 0.13388121, 0.03150434, 0.22625999, 0.09563362,\n",
              "        0.0482531 , 0.05915849, 0.11854362, 0.16331245, 0.05754533]],\n",
              "      dtype=float32)"
            ]
          },
          "metadata": {},
          "execution_count": 5
        }
      ]
    },
    {
      "cell_type": "code",
      "metadata": {
        "colab": {
          "base_uri": "https://localhost:8080/"
        },
        "id": "AHwvXz96Q2eF",
        "outputId": "aedb7d1c-5233-41c6-ad8d-4c05e9b2942d"
      },
      "source": [
        "#print(x_train.shape)\n",
        "print(x_train[:1].shape)"
      ],
      "execution_count": 6,
      "outputs": [
        {
          "output_type": "stream",
          "name": "stdout",
          "text": [
            "(1, 28, 28)\n"
          ]
        }
      ]
    },
    {
      "cell_type": "code",
      "metadata": {
        "colab": {
          "base_uri": "https://localhost:8080/"
        },
        "id": "bGbYbzqxQ58C",
        "outputId": "42fffe7e-4ba8-4864-8234-21ee7f59e343"
      },
      "source": [
        "print(x_train.shape)"
      ],
      "execution_count": 7,
      "outputs": [
        {
          "output_type": "stream",
          "name": "stdout",
          "text": [
            "(60000, 28, 28)\n"
          ]
        }
      ]
    },
    {
      "cell_type": "markdown",
      "metadata": {
        "id": "SVuBojvlUEKY"
      },
      "source": [
        "## ラベルと予測値での（スパース）クロスエントロピーの計算\n"
      ]
    },
    {
      "cell_type": "code",
      "metadata": {
        "colab": {
          "base_uri": "https://localhost:8080/"
        },
        "id": "sdOTWO6uRWDs",
        "outputId": "5ff3c386-b334-4d49-8a63-b64c83f5ef2a"
      },
      "source": [
        "loss_fn = tf.keras.losses.SparseCategoricalCrossentropy(from_logits=True)\n",
        "loss_fn(y_train[:1], predictions).numpy()"
      ],
      "execution_count": 8,
      "outputs": [
        {
          "output_type": "execute_result",
          "data": {
            "text/plain": [
              "3.0312953"
            ]
          },
          "metadata": {},
          "execution_count": 8
        }
      ]
    },
    {
      "cell_type": "markdown",
      "metadata": {
        "id": "wwHcH2JmUmA4"
      },
      "source": [
        "## モデルのコンパイル\n",
        "モデルのコンパイルとは、自分で決めたモデル（今の場合、1入力1出力で128ユニット＝128個のニューロンで構成された中間層としたSequentialモデル）を「どのように」学習をするかを詳細に設定すること。\n",
        "\n",
        "\n",
        "*   optimizer……最適化手法のこと。adamはそのうちの1つ\n",
        "*   loss……損失関数\n",
        "*   metrics……評価指標。Accuracyはそのうちの1つ\n",
        "\n",
        "\n",
        "\n"
      ]
    },
    {
      "cell_type": "code",
      "metadata": {
        "id": "rTGJx4itUlta"
      },
      "source": [
        "model.compile(optimizer='adam',\n",
        "              loss = loss_fn,\n",
        "              metrics = ['accuracy'])"
      ],
      "execution_count": 9,
      "outputs": []
    },
    {
      "cell_type": "markdown",
      "metadata": {
        "id": "V-K1vgI5XUgi"
      },
      "source": [
        "## 学習\n",
        "学習……損失を最小化するようにモデルのパラメータを調整\n",
        "1epochは学習においてデータをすべて使いきったときの回数に対応する。つまり、1回の（ミニバッチ）学習に使うデータ数を表す\n",
        "\n",
        "\n",
        "*   model.fitは、損失を最小化するようにモデルのパラメータを調整するメソッド\n",
        "\n"
      ]
    },
    {
      "cell_type": "code",
      "metadata": {
        "colab": {
          "base_uri": "https://localhost:8080/"
        },
        "id": "NXPOwZUUUBfV",
        "outputId": "a5094b24-6cb5-465c-a033-bae827d230c0"
      },
      "source": [
        "model.fit(x_train, y_train, epochs=5)"
      ],
      "execution_count": 10,
      "outputs": [
        {
          "output_type": "stream",
          "name": "stdout",
          "text": [
            "Epoch 1/5\n",
            "1875/1875 [==============================] - 5s 2ms/step - loss: 0.2947 - accuracy: 0.9149\n",
            "Epoch 2/5\n",
            "1875/1875 [==============================] - 4s 2ms/step - loss: 0.1385 - accuracy: 0.9588\n",
            "Epoch 3/5\n",
            "1875/1875 [==============================] - 4s 2ms/step - loss: 0.1038 - accuracy: 0.9680\n",
            "Epoch 4/5\n",
            "1875/1875 [==============================] - 4s 2ms/step - loss: 0.0840 - accuracy: 0.9737\n",
            "Epoch 5/5\n",
            "1875/1875 [==============================] - 4s 2ms/step - loss: 0.0734 - accuracy: 0.9773\n"
          ]
        },
        {
          "output_type": "execute_result",
          "data": {
            "text/plain": [
              "<keras.callbacks.History at 0x7f28d2885ad0>"
            ]
          },
          "metadata": {},
          "execution_count": 10
        }
      ]
    },
    {
      "cell_type": "markdown",
      "metadata": {
        "id": "FCFPkZNZYUcb"
      },
      "source": [
        "## モデルの性能を検証\n",
        "\n",
        "\n",
        "*   model.evaluateはテスト用データを用いてモデルの性能を検査する関数。モデルの損失値と評価値を返す\n"
      ]
    },
    {
      "cell_type": "code",
      "metadata": {
        "colab": {
          "base_uri": "https://localhost:8080/"
        },
        "id": "a6vck4zmYy-5",
        "outputId": "dcbcfdf3-53fc-4cdc-de73-aca4ad2301df"
      },
      "source": [
        "model.evaluate(x_test, y_test, verbose=1)"
      ],
      "execution_count": 14,
      "outputs": [
        {
          "output_type": "stream",
          "name": "stdout",
          "text": [
            "313/313 [==============================] - 1s 3ms/step - loss: 0.0672 - accuracy: 0.9807\n"
          ]
        },
        {
          "output_type": "execute_result",
          "data": {
            "text/plain": [
              "[0.06724967062473297, 0.9807000160217285]"
            ]
          },
          "metadata": {},
          "execution_count": 14
        }
      ]
    },
    {
      "cell_type": "code",
      "metadata": {
        "id": "ixi1xrSqaZlv"
      },
      "source": [
        ""
      ],
      "execution_count": null,
      "outputs": []
    }
  ]
}